{
 "cells": [
  {
   "cell_type": "markdown",
   "metadata": {},
   "source": [
    "# Trabalho de Estatística Avançada\n",
    "\n",
    "## Grupo \n",
    "Gabriel Atanazio\n",
    "Rebeca Araújo\n",
    "Rafael Machado"
   ]
  },
  {
   "cell_type": "markdown",
   "metadata": {},
   "source": [
    "# 1.CONTEXTO\n",
    "   \n",
    "    A base para esse trabalho é fruto de uma pesquisa da ANP ( Agência Nacional do Petróleo, Gás Natural e Biocombustível) que compilou dados mês a mês desde 2004 até 2019  por região dos seguintes itens : Etanol hidratado, óleo diesel, óleo diesel s10, gasolina comum, glp e gnv. Os dados compilados nos dão os preços médios praticados naquele período e região do país, além de preços mínimos e máximos, número de postos avaliados no período e outros indicadores para compreender como os preços dos combustiveis se comportaram no período em questão. Por se tratar de uma pesquisa, ela nos posibilita também compreender os desvios de preços naquele período e região, bem como a média praticada.\n"
   ]
  },
  {
   "cell_type": "markdown",
   "metadata": {},
   "source": [
    "# 2. Questões de Negócio\n",
    "    Com o presente trabalho buscaremos responder:\n",
    "    \n",
    "       1.Quais regiões tiveram as maiores variações de preço e em quais combustiveis foram. Há alguma variação que conseguimos justificar?"
   ]
  },
  {
   "cell_type": "markdown",
   "metadata": {},
   "source": [
    "# 3. Montagem do Dataset"
   ]
  },
  {
   "cell_type": "code",
   "execution_count": 934,
   "metadata": {},
   "outputs": [],
   "source": [
    "import pandas as pd\n",
    "pd.set_option('display.max_rows', 500)\n",
    "pd.set_option('display.max_columns', 500)\n",
    "pd.set_option('display.width', 1000)"
   ]
  },
  {
   "cell_type": "markdown",
   "metadata": {},
   "source": [
    "## Gas Prices in Brazil 2004-2019 Dataset"
   ]
  },
  {
   "cell_type": "markdown",
   "metadata": {},
   "source": [
    "Source and further information:"
   ]
  },
  {
   "cell_type": "markdown",
   "metadata": {},
   "source": [
    "https://www.kaggle.com/matheusfreitag/gas-prices-in-brazil"
   ]
  },
  {
   "cell_type": "markdown",
   "metadata": {},
   "source": [
    "Data:"
   ]
  },
  {
   "cell_type": "code",
   "execution_count": 935,
   "metadata": {},
   "outputs": [],
   "source": [
    "base= pd.read_csv('data_gasPricesBR_2004-2019.tsv', sep = '\\t')"
   ]
  },
  {
   "cell_type": "code",
   "execution_count": 936,
   "metadata": {},
   "outputs": [
    {
     "data": {
      "text/html": [
       "<div>\n",
       "<style scoped>\n",
       "    .dataframe tbody tr th:only-of-type {\n",
       "        vertical-align: middle;\n",
       "    }\n",
       "\n",
       "    .dataframe tbody tr th {\n",
       "        vertical-align: top;\n",
       "    }\n",
       "\n",
       "    .dataframe thead th {\n",
       "        text-align: right;\n",
       "    }\n",
       "</style>\n",
       "<table border=\"1\" class=\"dataframe\">\n",
       "  <thead>\n",
       "    <tr style=\"text-align: right;\">\n",
       "      <th></th>\n",
       "      <th>Unnamed: 0</th>\n",
       "      <th>DATA INICIAL</th>\n",
       "      <th>DATA FINAL</th>\n",
       "      <th>REGIÃO</th>\n",
       "      <th>ESTADO</th>\n",
       "      <th>PRODUTO</th>\n",
       "      <th>NÚMERO DE POSTOS PESQUISADOS</th>\n",
       "      <th>UNIDADE DE MEDIDA</th>\n",
       "      <th>PREÇO MÉDIO REVENDA</th>\n",
       "      <th>DESVIO PADRÃO REVENDA</th>\n",
       "      <th>PREÇO MÍNIMO REVENDA</th>\n",
       "      <th>PREÇO MÁXIMO REVENDA</th>\n",
       "      <th>MARGEM MÉDIA REVENDA</th>\n",
       "      <th>COEF DE VARIAÇÃO REVENDA</th>\n",
       "      <th>PREÇO MÉDIO DISTRIBUIÇÃO</th>\n",
       "      <th>DESVIO PADRÃO DISTRIBUIÇÃO</th>\n",
       "      <th>PREÇO MÍNIMO DISTRIBUIÇÃO</th>\n",
       "      <th>PREÇO MÁXIMO DISTRIBUIÇÃO</th>\n",
       "      <th>COEF DE VARIAÇÃO DISTRIBUIÇÃO</th>\n",
       "      <th>MÊS</th>\n",
       "      <th>ANO</th>\n",
       "    </tr>\n",
       "  </thead>\n",
       "  <tbody>\n",
       "    <tr>\n",
       "      <td>0</td>\n",
       "      <td>0</td>\n",
       "      <td>2004-05-09</td>\n",
       "      <td>2004-05-15</td>\n",
       "      <td>CENTRO OESTE</td>\n",
       "      <td>DISTRITO FEDERAL</td>\n",
       "      <td>ETANOL HIDRATADO</td>\n",
       "      <td>127</td>\n",
       "      <td>R$/l</td>\n",
       "      <td>1.288</td>\n",
       "      <td>0.016</td>\n",
       "      <td>1.19</td>\n",
       "      <td>1.350</td>\n",
       "      <td>0.463</td>\n",
       "      <td>0.012</td>\n",
       "      <td>0.825</td>\n",
       "      <td>0.11</td>\n",
       "      <td>0.4201</td>\n",
       "      <td>0.9666</td>\n",
       "      <td>0.133</td>\n",
       "      <td>5</td>\n",
       "      <td>2004</td>\n",
       "    </tr>\n",
       "    <tr>\n",
       "      <td>1</td>\n",
       "      <td>1</td>\n",
       "      <td>2004-05-09</td>\n",
       "      <td>2004-05-15</td>\n",
       "      <td>CENTRO OESTE</td>\n",
       "      <td>GOIAS</td>\n",
       "      <td>ETANOL HIDRATADO</td>\n",
       "      <td>387</td>\n",
       "      <td>R$/l</td>\n",
       "      <td>1.162</td>\n",
       "      <td>0.114</td>\n",
       "      <td>0.89</td>\n",
       "      <td>1.449</td>\n",
       "      <td>0.399</td>\n",
       "      <td>0.098</td>\n",
       "      <td>0.763</td>\n",
       "      <td>0.088</td>\n",
       "      <td>0.5013</td>\n",
       "      <td>1.05</td>\n",
       "      <td>0.115</td>\n",
       "      <td>5</td>\n",
       "      <td>2004</td>\n",
       "    </tr>\n",
       "  </tbody>\n",
       "</table>\n",
       "</div>"
      ],
      "text/plain": [
       "   Unnamed: 0 DATA INICIAL  DATA FINAL        REGIÃO            ESTADO           PRODUTO  NÚMERO DE POSTOS PESQUISADOS UNIDADE DE MEDIDA  PREÇO MÉDIO REVENDA  DESVIO PADRÃO REVENDA  PREÇO MÍNIMO REVENDA  PREÇO MÁXIMO REVENDA MARGEM MÉDIA REVENDA  COEF DE VARIAÇÃO REVENDA PREÇO MÉDIO DISTRIBUIÇÃO DESVIO PADRÃO DISTRIBUIÇÃO PREÇO MÍNIMO DISTRIBUIÇÃO PREÇO MÁXIMO DISTRIBUIÇÃO COEF DE VARIAÇÃO DISTRIBUIÇÃO  MÊS   ANO\n",
       "0           0   2004-05-09  2004-05-15  CENTRO OESTE  DISTRITO FEDERAL  ETANOL HIDRATADO                           127              R$/l                1.288                  0.016                  1.19                 1.350                0.463                     0.012                    0.825                       0.11                    0.4201                    0.9666                         0.133    5  2004\n",
       "1           1   2004-05-09  2004-05-15  CENTRO OESTE             GOIAS  ETANOL HIDRATADO                           387              R$/l                1.162                  0.114                  0.89                 1.449                0.399                     0.098                    0.763                      0.088                    0.5013                      1.05                         0.115    5  2004"
      ]
     },
     "execution_count": 936,
     "metadata": {},
     "output_type": "execute_result"
    }
   ],
   "source": [
    "base.head (2)"
   ]
  },
  {
   "cell_type": "markdown",
   "metadata": {},
   "source": [
    "Como observado, este dataset inicial apresenta alguns dados que não entendemos que sejam pertinentes para a questão do negócio, como as datas em que a pesquisa foi realizada, índice, margem, preço máximo de distribuição e outros. Deveremos tratar e eliminar as colunas que não são pertinentes."
   ]
  },
  {
   "cell_type": "code",
   "execution_count": 937,
   "metadata": {},
   "outputs": [],
   "source": [
    "base = base.drop(columns=['Unnamed: 0', 'DATA INICIAL','DATA FINAL','ESTADO','UNIDADE DE MEDIDA','MÊS','MARGEM MÉDIA REVENDA','DESVIO PADRÃO REVENDA','COEF DE VARIAÇÃO REVENDA','PREÇO MÉDIO DISTRIBUIÇÃO','DESVIO PADRÃO DISTRIBUIÇÃO','PREÇO MÍNIMO DISTRIBUIÇÃO','PREÇO MÁXIMO DISTRIBUIÇÃO','COEF DE VARIAÇÃO DISTRIBUIÇÃO'])"
   ]
  },
  {
   "cell_type": "code",
   "execution_count": 938,
   "metadata": {},
   "outputs": [
    {
     "data": {
      "text/html": [
       "<div>\n",
       "<style scoped>\n",
       "    .dataframe tbody tr th:only-of-type {\n",
       "        vertical-align: middle;\n",
       "    }\n",
       "\n",
       "    .dataframe tbody tr th {\n",
       "        vertical-align: top;\n",
       "    }\n",
       "\n",
       "    .dataframe thead th {\n",
       "        text-align: right;\n",
       "    }\n",
       "</style>\n",
       "<table border=\"1\" class=\"dataframe\">\n",
       "  <thead>\n",
       "    <tr style=\"text-align: right;\">\n",
       "      <th></th>\n",
       "      <th>REGIÃO</th>\n",
       "      <th>PRODUTO</th>\n",
       "      <th>NÚMERO DE POSTOS PESQUISADOS</th>\n",
       "      <th>PREÇO MÉDIO REVENDA</th>\n",
       "      <th>PREÇO MÍNIMO REVENDA</th>\n",
       "      <th>PREÇO MÁXIMO REVENDA</th>\n",
       "      <th>ANO</th>\n",
       "    </tr>\n",
       "  </thead>\n",
       "  <tbody>\n",
       "    <tr>\n",
       "      <td>0</td>\n",
       "      <td>CENTRO OESTE</td>\n",
       "      <td>ETANOL HIDRATADO</td>\n",
       "      <td>127</td>\n",
       "      <td>1.288</td>\n",
       "      <td>1.19</td>\n",
       "      <td>1.350</td>\n",
       "      <td>2004</td>\n",
       "    </tr>\n",
       "    <tr>\n",
       "      <td>1</td>\n",
       "      <td>CENTRO OESTE</td>\n",
       "      <td>ETANOL HIDRATADO</td>\n",
       "      <td>387</td>\n",
       "      <td>1.162</td>\n",
       "      <td>0.89</td>\n",
       "      <td>1.449</td>\n",
       "      <td>2004</td>\n",
       "    </tr>\n",
       "  </tbody>\n",
       "</table>\n",
       "</div>"
      ],
      "text/plain": [
       "         REGIÃO           PRODUTO  NÚMERO DE POSTOS PESQUISADOS  PREÇO MÉDIO REVENDA  PREÇO MÍNIMO REVENDA  PREÇO MÁXIMO REVENDA   ANO\n",
       "0  CENTRO OESTE  ETANOL HIDRATADO                           127                1.288                  1.19                 1.350  2004\n",
       "1  CENTRO OESTE  ETANOL HIDRATADO                           387                1.162                  0.89                 1.449  2004"
      ]
     },
     "execution_count": 938,
     "metadata": {},
     "output_type": "execute_result"
    }
   ],
   "source": [
    "base.head (2)"
   ]
  },
  {
   "cell_type": "markdown",
   "metadata": {},
   "source": [
    "Agora temos todos os dados que julgamos pertinentes para a análise. Por boas práticas, alteraremos o nome de todas as variavéis, removendo acentos e espaços."
   ]
  },
  {
   "cell_type": "code",
   "execution_count": 939,
   "metadata": {},
   "outputs": [
    {
     "data": {
      "text/plain": [
       "Index(['REGIÃO', 'PRODUTO', 'NÚMERO DE POSTOS PESQUISADOS', 'PREÇO MÉDIO REVENDA', 'PREÇO MÍNIMO REVENDA', 'PREÇO MÁXIMO REVENDA', 'ANO'], dtype='object')"
      ]
     },
     "execution_count": 939,
     "metadata": {},
     "output_type": "execute_result"
    }
   ],
   "source": [
    "base.columns"
   ]
  },
  {
   "cell_type": "code",
   "execution_count": 940,
   "metadata": {},
   "outputs": [],
   "source": [
    "renomear={'REGIÃO': 'regiao',\n",
    "         'PRODUTO' : 'produto',\n",
    "         'NÚMERO DE POSTOS PESQUISADOS' :'postos_pesquisados',\n",
    "         'PREÇO MÉDIO REVENDA':'preco_medio',\n",
    "         'PREÇO MÍNIMO REVENDA': 'preco_minimo',\n",
    "         'PREÇO MÁXIMO REVENDA': 'preco_maximo',\n",
    "         'MARGEM MÉDIA REVENDA': 'margem_media',\n",
    "                 'ANO': 'ano'}"
   ]
  },
  {
   "cell_type": "code",
   "execution_count": 941,
   "metadata": {},
   "outputs": [
    {
     "data": {
      "text/html": [
       "<div>\n",
       "<style scoped>\n",
       "    .dataframe tbody tr th:only-of-type {\n",
       "        vertical-align: middle;\n",
       "    }\n",
       "\n",
       "    .dataframe tbody tr th {\n",
       "        vertical-align: top;\n",
       "    }\n",
       "\n",
       "    .dataframe thead th {\n",
       "        text-align: right;\n",
       "    }\n",
       "</style>\n",
       "<table border=\"1\" class=\"dataframe\">\n",
       "  <thead>\n",
       "    <tr style=\"text-align: right;\">\n",
       "      <th></th>\n",
       "      <th>regiao</th>\n",
       "      <th>produto</th>\n",
       "      <th>postos_pesquisados</th>\n",
       "      <th>preco_medio</th>\n",
       "      <th>preco_minimo</th>\n",
       "      <th>preco_maximo</th>\n",
       "      <th>ano</th>\n",
       "    </tr>\n",
       "  </thead>\n",
       "  <tbody>\n",
       "    <tr>\n",
       "      <td>0</td>\n",
       "      <td>CENTRO OESTE</td>\n",
       "      <td>ETANOL HIDRATADO</td>\n",
       "      <td>127</td>\n",
       "      <td>1.288</td>\n",
       "      <td>1.19</td>\n",
       "      <td>1.350</td>\n",
       "      <td>2004</td>\n",
       "    </tr>\n",
       "    <tr>\n",
       "      <td>1</td>\n",
       "      <td>CENTRO OESTE</td>\n",
       "      <td>ETANOL HIDRATADO</td>\n",
       "      <td>387</td>\n",
       "      <td>1.162</td>\n",
       "      <td>0.89</td>\n",
       "      <td>1.449</td>\n",
       "      <td>2004</td>\n",
       "    </tr>\n",
       "  </tbody>\n",
       "</table>\n",
       "</div>"
      ],
      "text/plain": [
       "         regiao           produto  postos_pesquisados  preco_medio  preco_minimo  preco_maximo   ano\n",
       "0  CENTRO OESTE  ETANOL HIDRATADO                 127        1.288          1.19         1.350  2004\n",
       "1  CENTRO OESTE  ETANOL HIDRATADO                 387        1.162          0.89         1.449  2004"
      ]
     },
     "execution_count": 941,
     "metadata": {},
     "output_type": "execute_result"
    }
   ],
   "source": [
    "base = base.rename(columns= renomear)\n",
    "base.head(2)"
   ]
  },
  {
   "cell_type": "markdown",
   "metadata": {},
   "source": [
    "Após isso, precisamos validar que esse é um dataset válido, sem colunas com valores nulos. Além de possuirem os mesmos tamanhos."
   ]
  },
  {
   "cell_type": "markdown",
   "metadata": {},
   "source": [
    "Iremos tratar nesse trabalho, apenas de combustiveis disponiveis para a grande passa da população abastecer seus veículos. Devemos compreender quais são os tipos de produtos que compões os dados."
   ]
  },
  {
   "cell_type": "code",
   "execution_count": 942,
   "metadata": {},
   "outputs": [
    {
     "data": {
      "text/plain": [
       "array(['ETANOL HIDRATADO', 'GASOLINA COMUM', 'GLP', 'GNV', 'ÓLEO DIESEL',\n",
       "       'ÓLEO DIESEL S10'], dtype=object)"
      ]
     },
     "execution_count": 942,
     "metadata": {},
     "output_type": "execute_result"
    }
   ],
   "source": [
    "np.unique(base.produto)"
   ]
  },
  {
   "cell_type": "markdown",
   "metadata": {},
   "source": [
    "Devem eliminar o GLP da base, gás de cozinha. Também eliminaremos o diesel s10, uma vez que é muito mais comum para caminhões do que veículos do cotidiano."
   ]
  },
  {
   "cell_type": "code",
   "execution_count": 943,
   "metadata": {},
   "outputs": [
    {
     "data": {
      "text/plain": [
       "array(['ETANOL HIDRATADO', 'GASOLINA COMUM', 'GNV', 'ÓLEO DIESEL'],\n",
       "      dtype=object)"
      ]
     },
     "execution_count": 943,
     "metadata": {},
     "output_type": "execute_result"
    }
   ],
   "source": [
    "base = base[base.produto!='GLP']\n",
    "base = base[base.produto!='ÓLEO DIESEL S10']\n",
    "np.unique(base.produto)"
   ]
  },
  {
   "cell_type": "code",
   "execution_count": 944,
   "metadata": {},
   "outputs": [
    {
     "name": "stdout",
     "output_type": "stream",
     "text": [
      "A base de dados contem 76524 registros\n",
      "Registros não nulos\n"
     ]
    },
    {
     "data": {
      "text/plain": [
       "regiao                76524\n",
       "produto               76524\n",
       "postos_pesquisados    76524\n",
       "preco_medio           76524\n",
       "preco_minimo          76524\n",
       "preco_maximo          76524\n",
       "ano                   76524\n",
       "dtype: int64"
      ]
     },
     "execution_count": 944,
     "metadata": {},
     "output_type": "execute_result"
    }
   ],
   "source": [
    "print('A base de dados contem {} registros'.format(base.shape[0]))\n",
    "print('Registros não nulos')\n",
    "base.count()"
   ]
  },
  {
   "cell_type": "markdown",
   "metadata": {},
   "source": [
    "O dataset é válido. Todas as colunas apresentam valores não nulos."
   ]
  },
  {
   "cell_type": "markdown",
   "metadata": {},
   "source": [
    "# 4. Caracterização de Dataset"
   ]
  },
  {
   "cell_type": "code",
   "execution_count": 945,
   "metadata": {},
   "outputs": [
    {
     "data": {
      "text/plain": [
       "regiao                 object\n",
       "produto                object\n",
       "postos_pesquisados      int64\n",
       "preco_medio           float64\n",
       "preco_minimo          float64\n",
       "preco_maximo          float64\n",
       "ano                     int64\n",
       "dtype: object"
      ]
     },
     "execution_count": 945,
     "metadata": {},
     "output_type": "execute_result"
    }
   ],
   "source": [
    "base.dtypes"
   ]
  },
  {
   "cell_type": "code",
   "execution_count": 946,
   "metadata": {},
   "outputs": [
    {
     "data": {
      "text/plain": [
       "array(['CENTRO OESTE', 'NORDESTE', 'NORTE', 'SUDESTE', 'SUL'],\n",
       "      dtype=object)"
      ]
     },
     "execution_count": 946,
     "metadata": {},
     "output_type": "execute_result"
    }
   ],
   "source": [
    "np.unique(base.regiao)"
   ]
  },
  {
   "cell_type": "markdown",
   "metadata": {},
   "source": []
  },
  {
   "cell_type": "markdown",
   "metadata": {},
   "source": [
    "1. regiao -> Do tipo objeto, nela constam as regiões do Brasil. Norte, Nordeste, Sul, Sudeste e Centro Oeste\n",
    "2. produto -> Do tipo objeto, constam os combustivéis que foram analisados. São eles: Etanol hidratado, que chamaremos apenas de etanol, Gasolina comum, GNV, Óleo Diesel.\n",
    "3. postos_pesquisados -> Do tipo inteiro. Número de postos que foram visitados e contabilizados na pesquisa em determinado mês e ano.\n",
    "3. preco medio -> Do tipo float,média do valor do combustivel naquela determinada região e período de tempo.\n",
    "4. preco minimo -> Do tipo float, menor valor de combustivel encontrado naquela determinada região nos postos aferidos.\n",
    "5. preco maximo -> Do tipo float, maior valor de combustivel encontrado naquela determinada região nos postos aferidos.\n",
    "6. ano -> Do tipo inteiro.\n",
    "\n"
   ]
  },
  {
   "cell_type": "markdown",
   "metadata": {},
   "source": [
    "# 5. Visualização e Discussão "
   ]
  },
  {
   "cell_type": "code",
   "execution_count": 947,
   "metadata": {},
   "outputs": [],
   "source": [
    "import seaborn as sns\n",
    "import matplotlib as mp\n",
    "import numpy as np\n",
    "import matplotlib.pyplot as plt"
   ]
  },
  {
   "cell_type": "markdown",
   "metadata": {},
   "source": [
    "Determinaremos o número de vezes que cada produto aparece na base."
   ]
  },
  {
   "cell_type": "code",
   "execution_count": 948,
   "metadata": {},
   "outputs": [
    {
     "data": {
      "text/plain": [
       "GASOLINA COMUM      21194\n",
       "ÓLEO DIESEL         21194\n",
       "ETANOL HIDRATADO    21102\n",
       "GNV                 13034\n",
       "Name: produto, dtype: int64"
      ]
     },
     "execution_count": 948,
     "metadata": {},
     "output_type": "execute_result"
    }
   ],
   "source": [
    "contagem = base.loc[:,'produto']\n",
    "contagem.value_counts()"
   ]
  },
  {
   "cell_type": "code",
   "execution_count": 949,
   "metadata": {},
   "outputs": [
    {
     "data": {
      "text/plain": [
       "<matplotlib.axes._subplots.AxesSubplot at 0x201978ca908>"
      ]
     },
     "execution_count": 949,
     "metadata": {},
     "output_type": "execute_result"
    },
    {
     "data": {
      "image/png": "[encoded data removed]",
      "text/plain": [
       "<Figure size 432x288 with 1 Axes>"
      ]
     },
     "metadata": {
      "needs_background": "light"
     },
     "output_type": "display_data"
    }
   ],
   "source": [
    "sns.countplot(base['produto'])"
   ]
  },
  {
   "cell_type": "markdown",
   "metadata": {},
   "source": [
    "Determinaremos o número de vezes que cada região aparece na base."
   ]
  },
  {
   "cell_type": "code",
   "execution_count": 950,
   "metadata": {},
   "outputs": [
    {
     "data": {
      "text/plain": [
       "NORDESTE        26769\n",
       "NORTE           16849\n",
       "SUDESTE         12556\n",
       "CENTRO OESTE    10943\n",
       "SUL              9407\n",
       "Name: regiao, dtype: int64"
      ]
     },
     "execution_count": 950,
     "metadata": {},
     "output_type": "execute_result"
    }
   ],
   "source": [
    "contagem = base.loc[:,'regiao']\n",
    "contagem.value_counts()"
   ]
  },
  {
   "cell_type": "code",
   "execution_count": 951,
   "metadata": {},
   "outputs": [
    {
     "data": {
      "text/plain": [
       "<matplotlib.axes._subplots.AxesSubplot at 0x2019835f348>"
      ]
     },
     "execution_count": 951,
     "metadata": {},
     "output_type": "execute_result"
    },
    {
     "data": {
      "image/png": "[encoded data removed]",
      "text/plain": [
       "<Figure size 432x288 with 1 Axes>"
      ]
     },
     "metadata": {
      "needs_background": "light"
     },
     "output_type": "display_data"
    }
   ],
   "source": [
    "sns.countplot(base['regiao'])"
   ]
  },
  {
   "cell_type": "markdown",
   "metadata": {},
   "source": [
    "\n",
    "Determinaremos o número de vezes que cada ano aparece na base."
   ]
  },
  {
   "cell_type": "code",
   "execution_count": 952,
   "metadata": {},
   "outputs": [
    {
     "data": {
      "text/plain": [
       "2012    5185\n",
       "2006    5167\n",
       "2017    5128\n",
       "2014    5124\n",
       "2013    5117\n",
       "2010    5085\n",
       "2011    5083\n",
       "2007    5071\n",
       "2016    5065\n",
       "2008    5049\n",
       "2018    5019\n",
       "2015    5017\n",
       "2009    4883\n",
       "2005    4840\n",
       "2004    3287\n",
       "2019    2404\n",
       "Name: ano, dtype: int64"
      ]
     },
     "execution_count": 952,
     "metadata": {},
     "output_type": "execute_result"
    }
   ],
   "source": [
    "contagem = base.loc[:,'ano']\n",
    "contagem.value_counts()"
   ]
  },
  {
   "cell_type": "code",
   "execution_count": 953,
   "metadata": {},
   "outputs": [
    {
     "data": {
      "text/plain": [
       "<matplotlib.axes._subplots.AxesSubplot at 0x201983b2248>"
      ]
     },
     "execution_count": 953,
     "metadata": {},
     "output_type": "execute_result"
    },
    {
     "data": {
      "image/png": "[encoded data removed]",
      "text/plain": [
       "<Figure size 432x288 with 1 Axes>"
      ]
     },
     "metadata": {
      "needs_background": "light"
     },
     "output_type": "display_data"
    }
   ],
   "source": [
    "sns.countplot(base['ano'])"
   ]
  },
  {
   "cell_type": "markdown",
   "metadata": {},
   "source": [
    "Com isso, conseguimos compreender que a base possuir muitos dados de 2013 até 2017, que poderia detectar fortes oscilações nesse periodo. Possui muitos dados do nordeste, e em relação ao sul, tem o triplo de aparições. Quanto aos combustiveis, o GLP e diesel s10 possuem poucas aparições em relações aos demais."
   ]
  },
  {
   "cell_type": "code",
   "execution_count": 954,
   "metadata": {},
   "outputs": [
    {
     "data": {
      "image/png": "[encoded data removed]",
      "text/plain": [
       "<Figure size 432x288 with 4 Axes>"
      ]
     },
     "metadata": {
      "needs_background": "light"
     },
     "output_type": "display_data"
    }
   ],
   "source": [
    "histograma_completo = base.hist(column=\"preco_medio\",by=[\"produto\"],bins=30)"
   ]
  },
  {
   "cell_type": "markdown",
   "metadata": {},
   "source": [
    "Gerando o histograma acima, por preco de revenda e segmentado por produtos, a distribuição da gasolina nos salta aos olhos, seu histograma tem uma cauda longa a direita e um pico estreito próximo dos 2.8. Em contraponto o diesel s10 é praticamente um retangulo, remetendo que os preços são praticamente imutáveis, ou pouco mutavíes ao longo dos períodos."
   ]
  },
  {
   "cell_type": "code",
   "execution_count": 955,
   "metadata": {},
   "outputs": [
    {
     "data": {
      "text/plain": [
       "<matplotlib.axes._subplots.AxesSubplot at 0x2019aaf8308>"
      ]
     },
     "execution_count": 955,
     "metadata": {},
     "output_type": "execute_result"
    },
    {
     "data": {
      "image/png": "[encoded data removed]",
      "text/plain": [
       "<Figure size 432x288 with 1 Axes>"
      ]
     },
     "metadata": {
      "needs_background": "light"
     },
     "output_type": "display_data"
    }
   ],
   "source": [
    " sns.boxplot( x = \"produto\" ,  y=\"preco_medio\" ,  data = base)"
   ]
  },
  {
   "cell_type": "code",
   "execution_count": 956,
   "metadata": {},
   "outputs": [],
   "source": [
    "etanol = base[base.produto=='ETANOL HIDRATADO']\n",
    "etanol=etanol.groupby(['ano','regiao'])['preco_medio'].mean().unstack(fill_value=0)\n",
    "gasolina =base[base.produto=='GASOLINA COMUM']\n",
    "gasolina=gasolina.groupby(['ano','regiao'])['preco_medio'].mean().unstack(fill_value=0)\n",
    "gnv =base[base.produto=='GNV']\n",
    "gnv=gnv.groupby(['ano','regiao'])['preco_medio'].mean().unstack(fill_value=0)\n",
    "diesel =base[base.produto=='ÓLEO DIESEL']\n",
    "diesel=diesel.groupby(['ano','regiao'])['preco_medio'].mean().unstack(fill_value=0)\n"
   ]
  },
  {
   "cell_type": "code",
   "execution_count": 957,
   "metadata": {},
   "outputs": [
    {
     "data": {
      "text/plain": [
       "<seaborn.axisgrid.FacetGrid at 0x201978c6788>"
      ]
     },
     "execution_count": 957,
     "metadata": {},
     "output_type": "execute_result"
    },
    {
     "data": {
      "image/png": "[encoded data removed]",
      "text/plain": [
       "<Figure size 859.25x1080 with 5 Axes>"
      ]
     },
     "metadata": {
      "needs_background": "light"
     },
     "output_type": "display_data"
    }
   ],
   "source": [
    "sns.catplot(x='ano',y='postos_pesquisados', col='regiao',hue ='produto',kind='point',col_wrap=2, aspect=1,data= base)\n"
   ]
  },
  {
   "cell_type": "markdown",
   "metadata": {},
   "source": [
    "Para cada região e produto, temosque a relação de postos em média avaliados e produtos se mantem. Temos o pico de óleo diesel S10 em 2013, ano em que se populariou em todas as regições. Observamos também uma diminuição de postos observados no sudeste, mas ainda sim, muitos postoss. Não acreditamos que o número de postos afetará a análise."
   ]
  },
  {
   "cell_type": "markdown",
   "metadata": {},
   "source": [
    "## 5.1 Análises individuais\n",
    "\n",
    "    Exploraremos cada variavél individualmente para entender seu comportamente ao longo do tempo. \n",
    "    Iniciaremos pelo etanol."
   ]
  },
  {
   "cell_type": "code",
   "execution_count": 958,
   "metadata": {},
   "outputs": [
    {
     "data": {
      "text/html": [
       "<div>\n",
       "<style scoped>\n",
       "    .dataframe tbody tr th:only-of-type {\n",
       "        vertical-align: middle;\n",
       "    }\n",
       "\n",
       "    .dataframe tbody tr th {\n",
       "        vertical-align: top;\n",
       "    }\n",
       "\n",
       "    .dataframe thead th {\n",
       "        text-align: right;\n",
       "    }\n",
       "</style>\n",
       "<table border=\"1\" class=\"dataframe\">\n",
       "  <thead>\n",
       "    <tr style=\"text-align: right;\">\n",
       "      <th>regiao</th>\n",
       "      <th>CENTRO OESTE</th>\n",
       "      <th>NORDESTE</th>\n",
       "      <th>NORTE</th>\n",
       "      <th>SUDESTE</th>\n",
       "      <th>SUL</th>\n",
       "    </tr>\n",
       "    <tr>\n",
       "      <th>ano</th>\n",
       "      <th></th>\n",
       "      <th></th>\n",
       "      <th></th>\n",
       "      <th></th>\n",
       "      <th></th>\n",
       "    </tr>\n",
       "  </thead>\n",
       "  <tbody>\n",
       "    <tr>\n",
       "      <td>2004</td>\n",
       "      <td>1.502309</td>\n",
       "      <td>1.534441</td>\n",
       "      <td>1.736340</td>\n",
       "      <td>1.274912</td>\n",
       "      <td>1.396853</td>\n",
       "    </tr>\n",
       "    <tr>\n",
       "      <td>2005</td>\n",
       "      <td>1.630055</td>\n",
       "      <td>1.711411</td>\n",
       "      <td>1.900959</td>\n",
       "      <td>1.466315</td>\n",
       "      <td>1.611667</td>\n",
       "    </tr>\n",
       "    <tr>\n",
       "      <td>2006</td>\n",
       "      <td>1.880292</td>\n",
       "      <td>1.953212</td>\n",
       "      <td>2.171461</td>\n",
       "      <td>1.794656</td>\n",
       "      <td>1.880478</td>\n",
       "    </tr>\n",
       "    <tr>\n",
       "      <td>2007</td>\n",
       "      <td>1.597981</td>\n",
       "      <td>1.764425</td>\n",
       "      <td>1.949640</td>\n",
       "      <td>1.613649</td>\n",
       "      <td>1.638378</td>\n",
       "    </tr>\n",
       "    <tr>\n",
       "      <td>2008</td>\n",
       "      <td>1.634000</td>\n",
       "      <td>1.793338</td>\n",
       "      <td>1.988585</td>\n",
       "      <td>1.589534</td>\n",
       "      <td>1.628506</td>\n",
       "    </tr>\n",
       "    <tr>\n",
       "      <td>2009</td>\n",
       "      <td>1.647225</td>\n",
       "      <td>1.769771</td>\n",
       "      <td>1.969817</td>\n",
       "      <td>1.635170</td>\n",
       "      <td>1.669287</td>\n",
       "    </tr>\n",
       "    <tr>\n",
       "      <td>2010</td>\n",
       "      <td>1.786207</td>\n",
       "      <td>1.917887</td>\n",
       "      <td>2.145036</td>\n",
       "      <td>1.817034</td>\n",
       "      <td>1.863397</td>\n",
       "    </tr>\n",
       "    <tr>\n",
       "      <td>2011</td>\n",
       "      <td>2.053856</td>\n",
       "      <td>2.178803</td>\n",
       "      <td>2.334937</td>\n",
       "      <td>2.159428</td>\n",
       "      <td>2.226686</td>\n",
       "    </tr>\n",
       "    <tr>\n",
       "      <td>2012</td>\n",
       "      <td>2.068382</td>\n",
       "      <td>2.204065</td>\n",
       "      <td>2.375116</td>\n",
       "      <td>2.157764</td>\n",
       "      <td>2.243604</td>\n",
       "    </tr>\n",
       "    <tr>\n",
       "      <td>2013</td>\n",
       "      <td>2.093913</td>\n",
       "      <td>2.355028</td>\n",
       "      <td>2.489093</td>\n",
       "      <td>2.173952</td>\n",
       "      <td>2.259808</td>\n",
       "    </tr>\n",
       "    <tr>\n",
       "      <td>2014</td>\n",
       "      <td>2.225793</td>\n",
       "      <td>2.473209</td>\n",
       "      <td>2.661207</td>\n",
       "      <td>2.296341</td>\n",
       "      <td>2.338974</td>\n",
       "    </tr>\n",
       "    <tr>\n",
       "      <td>2015</td>\n",
       "      <td>2.381333</td>\n",
       "      <td>2.624638</td>\n",
       "      <td>2.873709</td>\n",
       "      <td>2.489275</td>\n",
       "      <td>2.518111</td>\n",
       "    </tr>\n",
       "    <tr>\n",
       "      <td>2016</td>\n",
       "      <td>2.832812</td>\n",
       "      <td>3.120246</td>\n",
       "      <td>3.438695</td>\n",
       "      <td>2.909990</td>\n",
       "      <td>3.116885</td>\n",
       "    </tr>\n",
       "    <tr>\n",
       "      <td>2017</td>\n",
       "      <td>2.893590</td>\n",
       "      <td>3.129430</td>\n",
       "      <td>3.525245</td>\n",
       "      <td>2.978373</td>\n",
       "      <td>3.208258</td>\n",
       "    </tr>\n",
       "    <tr>\n",
       "      <td>2018</td>\n",
       "      <td>3.103851</td>\n",
       "      <td>3.423313</td>\n",
       "      <td>3.730029</td>\n",
       "      <td>3.217072</td>\n",
       "      <td>3.476677</td>\n",
       "    </tr>\n",
       "    <tr>\n",
       "      <td>2019</td>\n",
       "      <td>3.064510</td>\n",
       "      <td>3.492178</td>\n",
       "      <td>3.746550</td>\n",
       "      <td>3.291330</td>\n",
       "      <td>3.532720</td>\n",
       "    </tr>\n",
       "  </tbody>\n",
       "</table>\n",
       "</div>"
      ],
      "text/plain": [
       "regiao  CENTRO OESTE  NORDESTE     NORTE   SUDESTE       SUL\n",
       "ano                                                         \n",
       "2004        1.502309  1.534441  1.736340  1.274912  1.396853\n",
       "2005        1.630055  1.711411  1.900959  1.466315  1.611667\n",
       "2006        1.880292  1.953212  2.171461  1.794656  1.880478\n",
       "2007        1.597981  1.764425  1.949640  1.613649  1.638378\n",
       "2008        1.634000  1.793338  1.988585  1.589534  1.628506\n",
       "2009        1.647225  1.769771  1.969817  1.635170  1.669287\n",
       "2010        1.786207  1.917887  2.145036  1.817034  1.863397\n",
       "2011        2.053856  2.178803  2.334937  2.159428  2.226686\n",
       "2012        2.068382  2.204065  2.375116  2.157764  2.243604\n",
       "2013        2.093913  2.355028  2.489093  2.173952  2.259808\n",
       "2014        2.225793  2.473209  2.661207  2.296341  2.338974\n",
       "2015        2.381333  2.624638  2.873709  2.489275  2.518111\n",
       "2016        2.832812  3.120246  3.438695  2.909990  3.116885\n",
       "2017        2.893590  3.129430  3.525245  2.978373  3.208258\n",
       "2018        3.103851  3.423313  3.730029  3.217072  3.476677\n",
       "2019        3.064510  3.492178  3.746550  3.291330  3.532720"
      ]
     },
     "execution_count": 958,
     "metadata": {},
     "output_type": "execute_result"
    }
   ],
   "source": [
    "etanol.head(21)"
   ]
  },
  {
   "cell_type": "markdown",
   "metadata": {},
   "source": [
    "Podemos observar o crescente valor médio de alcool nas regiões"
   ]
  },
  {
   "cell_type": "code",
   "execution_count": 959,
   "metadata": {},
   "outputs": [
    {
     "data": {
      "text/plain": [
       "<seaborn.axisgrid.FacetGrid at 0x2019c4d2648>"
      ]
     },
     "execution_count": 959,
     "metadata": {},
     "output_type": "execute_result"
    },
    {
     "data": {
      "image/png": "[encoded data removed]",
      "text/plain": [
       "<Figure size 472.875x360 with 1 Axes>"
      ]
     },
     "metadata": {
      "needs_background": "light"
     },
     "output_type": "display_data"
    }
   ],
   "source": [
    "sns.relplot( data=etanol)"
   ]
  },
  {
   "cell_type": "code",
   "execution_count": 960,
   "metadata": {},
   "outputs": [
    {
     "data": {
      "text/plain": [
       "regiao\n",
       "CENTRO OESTE    2.149757\n",
       "NORDESTE        2.340337\n",
       "NORTE           2.564776\n",
       "SUDESTE         2.179050\n",
       "SUL             2.288143\n",
       "dtype: float64"
      ]
     },
     "execution_count": 960,
     "metadata": {},
     "output_type": "execute_result"
    },
    {
     "data": {
      "image/png": "[encoded data removed]",
      "text/plain": [
       "<Figure size 432x288 with 1 Axes>"
      ]
     },
     "metadata": {
      "needs_background": "light"
     },
     "output_type": "display_data"
    }
   ],
   "source": [
    "sns.boxplot(etanol)\n",
    "etanol.mean()"
   ]
  },
  {
   "cell_type": "markdown",
   "metadata": {},
   "source": [
    "Como observado no gráfico e confirmado pelas médias gerais, a região Norte é a que apresenta os maiores preços médios do etanol, seguido por nordeste, sul, sudeste e centro oeste. Porém ao analisarmos apenas o gráfico, veemos que a região sul, desde 2016 já estão com valoes maiores que a região nordeste em relação ao etanol."
   ]
  },
  {
   "cell_type": "code",
   "execution_count": 961,
   "metadata": {},
   "outputs": [
    {
     "name": "stdout",
     "output_type": "stream",
     "text": [
      "O maior valor pago em etanol no Sul em 2004 foi de 1.818 \n",
      "\n",
      "O maior valor pago em etanol no Sul em 2019 foi de 4.287\n",
      "\n",
      "O maior valor pago em etanol no Nordeste em 2004 foi de 1.993 \n",
      "\n",
      "O maior valor pago em etanol no Nordeste em 2019 foi de 3.927\n",
      "\n",
      "O maior valor pago em etanol no Norte em 2004 foi de 2.154 \n",
      "\n",
      "O maior valor pago em etanol no Norte em 2019 foi de 4.032\n",
      "\n",
      "O maior valor pago em etanol no Sudeste em 2004 foi de 1.639 \n",
      "\n",
      "O maior valor pago em etanol no Sudeste em 2019 foi de 4.115\n",
      "\n",
      "O maior valor pago em etanol no Centro Oeste em 2004 foi de 1.853 \n",
      "\n",
      "O maior valor pago em etanol no Centro Oeste em 2019 foi de 3.5980000000000003\n",
      "\n",
      "A variação de valor do etanol no Sul foi de 57.59% em 15 anos\n",
      "\n",
      "A variação de valor do etanol no Nordste foi de 49.25% em 15 anos\n",
      "\n",
      "A variação de valor do etanol no Norte foi de 46.58% em 15 anos\n",
      "\n",
      "A variação de valor do etanol no Sudeste foi de 60.17% em 15 anos\n",
      "\n",
      "A variação de valor do etanol no Centro Oeste foi de 48.5% em 15 anos\n",
      "\n"
     ]
    }
   ],
   "source": [
    "sul = base[base.regiao=='SUL']\n",
    "sul = sul[sul.produto=='ETANOL HIDRATADO']\n",
    "inicio_sul_ano_0=sul[sul.ano==2004]\n",
    "inicio_sul_ano_0 = inicio_sul_ano_0.preco_medio.max()\n",
    "fim_sul = sul[sul.ano==2019]\n",
    "fim_sul = fim_sul.preco_medio.max()\n",
    "variacao_sul = (fim_sul-inicio_sul_ano_0)/fim_sul\n",
    "print('O maior valor pago em etanol no Sul em 2004 foi de {0} \\n'.format(inicio_sul_ano_0))\n",
    "print('O maior valor pago em etanol no Sul em 2019 foi de {0}\\n'.format(fim_sul))\n",
    "\n",
    "\n",
    "\n",
    "nordeste = base[base.regiao=='NORDESTE']\n",
    "nordeste=nordeste[nordeste.produto=='ETANOL HIDRATADO']\n",
    "inicio_nordeste_ano_0=nordeste[nordeste.ano==2004]\n",
    "inicio_nordeste_ano_0 = inicio_nordeste_ano_0.preco_medio.max()\n",
    "fim_nordeste = nordeste[nordeste.ano==2019]\n",
    "fim_nordeste = fim_nordeste.preco_medio.max()\n",
    "variacao_nordeste = (fim_nordeste-inicio_nordeste_ano_0)/fim_nordeste\n",
    "print('O maior valor pago em etanol no Nordeste em 2004 foi de {0} \\n'.format(inicio_nordeste_ano_0))\n",
    "print('O maior valor pago em etanol no Nordeste em 2019 foi de {0}\\n'.format(fim_nordeste))\n",
    "\n",
    "\n",
    "\n",
    "norte = base[base.regiao=='NORTE']\n",
    "norte=norte[norte.produto=='ETANOL HIDRATADO']\n",
    "inicio_norte_ano_0=norte[norte.ano==2004]\n",
    "inicio_norte_ano_0 = inicio_norte_ano_0.preco_medio.max()\n",
    "fim_norte = norte[norte.ano==2019]\n",
    "fim_norte = fim_norte.preco_medio.max()\n",
    "variacao_norte = (fim_norte-inicio_norte_ano_0)/fim_norte\n",
    "print('O maior valor pago em etanol no Norte em 2004 foi de {0} \\n'.format(inicio_norte_ano_0))\n",
    "print('O maior valor pago em etanol no Norte em 2019 foi de {0}\\n'.format(fim_norte))\n",
    "\n",
    "\n",
    "\n",
    "sudeste = base[base.regiao=='SUDESTE']\n",
    "sudeste=sudeste[sudeste.produto=='ETANOL HIDRATADO']\n",
    "inicio_sudeste_ano_0=sudeste[sudeste.ano==2004]\n",
    "inicio_sudeste_ano_0 = inicio_sudeste_ano_0.preco_medio.max()\n",
    "fim_sudeste = sudeste[sudeste.ano==2019]\n",
    "fim_sudeste = fim_sudeste.preco_medio.max()\n",
    "variacao_sudeste = (fim_sudeste-inicio_sudeste_ano_0)/fim_sudeste\n",
    "print('O maior valor pago em etanol no Sudeste em 2004 foi de {0} \\n'.format(inicio_sudeste_ano_0))\n",
    "print('O maior valor pago em etanol no Sudeste em 2019 foi de {0}\\n'.format(fim_sudeste))\n",
    "\n",
    "\n",
    "\n",
    "centroeste = base[base.regiao=='CENTRO OESTE']\n",
    "centroeste=centroeste[centroeste.produto=='ETANOL HIDRATADO']\n",
    "inicio_centroeste_ano_0=centroeste[centroeste.ano==2004]\n",
    "inicio_centroeste_ano_0 = inicio_centroeste_ano_0.preco_medio.max()\n",
    "fim_centroeste = centroeste[centroeste.ano==2019]\n",
    "fim_centroeste = fim_centroeste.preco_medio.max()\n",
    "variacao_centroeste = (fim_centroeste-inicio_centroeste_ano_0)/fim_centroeste\n",
    "\n",
    "variacao_sul_etanol =variacao_sul\n",
    "variacao_sudeste_etanol =variacao_sudeste\n",
    "variacao_norte_etanol =variacao_norte\n",
    "variacao_nordeste_etanol =variacao_nordeste\n",
    "variacao_centroeste_etanol =variacao_centroeste\n",
    "\n",
    "print('O maior valor pago em etanol no Centro Oeste em 2004 foi de {0} \\n'.format(inicio_centroeste_ano_0))\n",
    "print('O maior valor pago em etanol no Centro Oeste em 2019 foi de {0}\\n'.format(fim_centroeste))\n",
    "\n",
    "                                                                                           \n",
    "print('A variação de valor do etanol no Sul foi de {}% em 15 anos\\n'.format(round((variacao_sul*100),2)))                                                                                         \n",
    "                                                                                           \n",
    "print('A variação de valor do etanol no Nordste foi de {}% em 15 anos\\n'.format(round((variacao_nordeste*100),2)))                                                                                           \n",
    "print('A variação de valor do etanol no Norte foi de {}% em 15 anos\\n'.format(round((variacao_norte*100),2)))                                                                                          \n",
    "print('A variação de valor do etanol no Sudeste foi de {}% em 15 anos\\n'.format(round((variacao_sudeste*100),2)))            \n",
    "print('A variação de valor do etanol no Centro Oeste foi de {}% em 15 anos\\n'.format(round((variacao_centroeste*100) ,2)))\n",
    "\n",
    "aumento_etanol_sudeste =fim_sudeste-inicio_sudeste_ano_0\n",
    "aumento_etanol_sul =fim_sul-inicio_sul_ano_0\n",
    "aumento_etanol_norte =fim_norte-inicio_norte_ano_0\n",
    "aumento_etanol_nordeste =fim_nordeste-inicio_sul_ano_0\n",
    "aumento_etanol_centroeste =fim_centroeste-inicio_sul_ano_0"
   ]
  },
  {
   "cell_type": "markdown",
   "metadata": {},
   "source": [
    "    O maior aumento de preço de etanol deu-se na região Sudeste. Um aumento de praticamente 60% do valor nos últimos 15 anos.\n",
    "    Seguiremos a análise, agora para a gasolina."
   ]
  },
  {
   "cell_type": "code",
   "execution_count": 962,
   "metadata": {},
   "outputs": [
    {
     "data": {
      "text/plain": [
       "<seaborn.axisgrid.FacetGrid at 0x2019c54b0c8>"
      ]
     },
     "execution_count": 962,
     "metadata": {},
     "output_type": "execute_result"
    },
    {
     "data": {
      "image/png": "[encoded data removed]",
      "text/plain": [
       "<Figure size 472.875x360 with 1 Axes>"
      ]
     },
     "metadata": {
      "needs_background": "light"
     },
     "output_type": "display_data"
    }
   ],
   "source": [
    "sns.relplot( data=gasolina)"
   ]
  },
  {
   "cell_type": "code",
   "execution_count": 963,
   "metadata": {},
   "outputs": [
    {
     "data": {
      "text/plain": [
       "regiao\n",
       "CENTRO OESTE    3.100107\n",
       "NORDESTE        3.028522\n",
       "NORTE           3.169788\n",
       "SUDESTE         3.028352\n",
       "SUL             2.996897\n",
       "dtype: float64"
      ]
     },
     "execution_count": 963,
     "metadata": {},
     "output_type": "execute_result"
    },
    {
     "data": {
      "image/png": "[encoded data removed]",
      "text/plain": [
       "<Figure size 432x288 with 1 Axes>"
      ]
     },
     "metadata": {
      "needs_background": "light"
     },
     "output_type": "display_data"
    }
   ],
   "source": [
    "sns.boxplot(gasolina)\n",
    "gasolina.mean()"
   ]
  },
  {
   "cell_type": "markdown",
   "metadata": {},
   "source": [
    "    Pelo boxplot, temos uma causa a direita grande, representando grandes oscilações de preço. Quando checamos a média por região, podemos á observar isso, com a região norte pagando em média praticamente R$3.17 enquanto o sul pagava em média R$3"
   ]
  },
  {
   "cell_type": "code",
   "execution_count": 964,
   "metadata": {},
   "outputs": [
    {
     "name": "stdout",
     "output_type": "stream",
     "text": [
      "O maior valor pago em gasolina no Sul em 2004 foi de 2.486 \n",
      "\n",
      "O maior valor pago em gasolina no Sul em 2019 foi de 4.8180000000000005\n",
      "\n",
      "O maior valor pago em gasolina no Nordeste em 2004 foi de 2.457 \n",
      "\n",
      "O maior valor pago em gasolina no Nordeste em 2019 foi de 4.9510000000000005\n",
      "\n",
      "O maior valor pago em gasolina no Norte em 2004 foi de 2.639 \n",
      "\n",
      "O maior valor pago em gasolina no Norte em 2019 foi de 5.121\n",
      "\n",
      "O maior valor pago em gasolina no Sudeste em 2004 foi de 2.316 \n",
      "\n",
      "O maior valor pago em gasolina no Sudeste em 2019 foi de 5.044\n",
      "\n",
      "O maior valor pago em gasolina no Centro Oeste em 2004 foi de 2.707 \n",
      "\n",
      "O maior valor pago em gasolina no Centro Oeste em 2019 foi de 4.763\n",
      "\n",
      "A variação de valor do gasolinano Sul foi de 48.4% em 15 anos\n",
      "\n",
      "A variação de valor do gasolina no Nordste foi de 50.37% em 15 anos\n",
      "\n",
      "A variação de valor do gasolina no Norte foi de 48.47% em 15 anos\n",
      "\n",
      "A variação de valor do gasolina no Sudeste foi de 54.08% em 15 anos\n",
      "\n",
      "A variação de valor do gasolina no Centro Oeste foi de 43.17% em 15 anos\n",
      "\n"
     ]
    }
   ],
   "source": [
    "sul = base[base.regiao=='SUL']\n",
    "sul = sul[sul.produto=='GASOLINA COMUM']\n",
    "inicio_sul_ano_0=sul[sul.ano==2004]\n",
    "inicio_sul_ano_0 = inicio_sul_ano_0.preco_medio.max()\n",
    "fim_sul = sul[sul.ano==2019]\n",
    "fim_sul = fim_sul.preco_medio.max()\n",
    "variacao_sul = (fim_sul-inicio_sul_ano_0)/fim_sul\n",
    "print('O maior valor pago em gasolina no Sul em 2004 foi de {0} \\n'.format(inicio_sul_ano_0))\n",
    "print('O maior valor pago em gasolina no Sul em 2019 foi de {0}\\n'.format(fim_sul))\n",
    "\n",
    "\n",
    "\n",
    "nordeste = base[base.regiao=='NORDESTE']\n",
    "nordeste=nordeste[nordeste.produto=='GASOLINA COMUM']\n",
    "inicio_nordeste_ano_0=nordeste[nordeste.ano==2004]\n",
    "inicio_nordeste_ano_0 = inicio_nordeste_ano_0.preco_medio.max()\n",
    "fim_nordeste = nordeste[nordeste.ano==2019]\n",
    "fim_nordeste = fim_nordeste.preco_medio.max()\n",
    "variacao_nordeste = (fim_nordeste-inicio_nordeste_ano_0)/fim_nordeste\n",
    "print('O maior valor pago em gasolina no Nordeste em 2004 foi de {0} \\n'.format(inicio_nordeste_ano_0))\n",
    "print('O maior valor pago em gasolina no Nordeste em 2019 foi de {0}\\n'.format(fim_nordeste))\n",
    "\n",
    "\n",
    "\n",
    "norte = base[base.regiao=='NORTE']\n",
    "norte=norte[norte.produto=='GASOLINA COMUM']\n",
    "inicio_norte_ano_0=norte[norte.ano==2004]\n",
    "inicio_norte_ano_0 = inicio_norte_ano_0.preco_medio.max()\n",
    "fim_norte = norte[norte.ano==2019]\n",
    "fim_norte = fim_norte.preco_medio.max()\n",
    "variacao_norte = (fim_norte-inicio_norte_ano_0)/fim_norte\n",
    "print('O maior valor pago em gasolina no Norte em 2004 foi de {0} \\n'.format(inicio_norte_ano_0))\n",
    "print('O maior valor pago em gasolina no Norte em 2019 foi de {0}\\n'.format(fim_norte))\n",
    "\n",
    "\n",
    "\n",
    "sudeste = base[base.regiao=='SUDESTE']\n",
    "sudeste=sudeste[sudeste.produto=='GASOLINA COMUM']\n",
    "inicio_sudeste_ano_0=sudeste[sudeste.ano==2004]\n",
    "inicio_sudeste_ano_0 = inicio_sudeste_ano_0.preco_medio.max()\n",
    "fim_sudeste = sudeste[sudeste.ano==2019]\n",
    "fim_sudeste = fim_sudeste.preco_medio.max()\n",
    "variacao_sudeste = (fim_sudeste-inicio_sudeste_ano_0)/fim_sudeste\n",
    "print('O maior valor pago em gasolina no Sudeste em 2004 foi de {0} \\n'.format(inicio_sudeste_ano_0))\n",
    "print('O maior valor pago em gasolina no Sudeste em 2019 foi de {0}\\n'.format(fim_sudeste))\n",
    "\n",
    "\n",
    "\n",
    "centroeste = base[base.regiao=='CENTRO OESTE']\n",
    "centroeste=centroeste[centroeste.produto=='GASOLINA COMUM']\n",
    "inicio_centroeste_ano_0=centroeste[centroeste.ano==2004]\n",
    "inicio_centroeste_ano_0 = inicio_centroeste_ano_0.preco_medio.max()\n",
    "fim_centroeste = centroeste[centroeste.ano==2019]\n",
    "fim_centroeste = fim_centroeste.preco_medio.max()\n",
    "variacao_centroeste = (fim_centroeste-inicio_centroeste_ano_0)/fim_centroeste\n",
    "print('O maior valor pago em gasolina no Centro Oeste em 2004 foi de {0} \\n'.format(inicio_centroeste_ano_0))\n",
    "print('O maior valor pago em gasolina no Centro Oeste em 2019 foi de {0}\\n'.format(fim_centroeste))\n",
    "\n",
    "                                                                                           \n",
    "print('A variação de valor do gasolinano Sul foi de {}% em 15 anos\\n'.format(round((variacao_sul*100),2)))                                                                                         \n",
    "                                                                                           \n",
    "print('A variação de valor do gasolina no Nordste foi de {}% em 15 anos\\n'.format(round((variacao_nordeste*100),2)))                                                                                           \n",
    "print('A variação de valor do gasolina no Norte foi de {}% em 15 anos\\n'.format(round((variacao_norte*100),2)))                                                                                          \n",
    "print('A variação de valor do gasolina no Sudeste foi de {}% em 15 anos\\n'.format(round((variacao_sudeste*100),2)))            \n",
    "print('A variação de valor do gasolina no Centro Oeste foi de {}% em 15 anos\\n'.format(round((variacao_centroeste*100) ,2)))\n",
    "                                                                                                       \n",
    "aumento_gasolina_sudeste =fim_sudeste-inicio_sudeste_ano_0\n",
    "aumento_gasolina_sul =fim_sul-inicio_sul_ano_0\n",
    "aumento_gasolina_norte =fim_norte-inicio_norte_ano_0\n",
    "aumento_gasolina_nordeste =fim_nordeste-inicio_sul_ano_0\n",
    "aumento_gasolina_centroeste =fim_centroeste-inicio_sul_ano_0\n",
    "\n",
    "\n",
    "variacao_sul_gasolina =variacao_sul\n",
    "variacao_sudeste_gasolina =variacao_sudeste\n",
    "variacao_norte_gasolina =variacao_norte\n",
    "variacao_nordeste_gasolina =variacao_nordeste\n",
    "variacao_centroeste_gasolina =variacao_centroeste"
   ]
  },
  {
   "cell_type": "markdown",
   "metadata": {},
   "source": [
    "    A região sudeste, apresentou as maiores oscilações do preço da gasolina nos últimos 15 anos, um aumento de 50% do valor. Chegando a pagar R$5,04.\n",
    "    A próxima análise será em GNV."
   ]
  },
  {
   "cell_type": "code",
   "execution_count": 965,
   "metadata": {},
   "outputs": [
    {
     "data": {
      "text/plain": [
       "<seaborn.axisgrid.FacetGrid at 0x2019c646e88>"
      ]
     },
     "execution_count": 965,
     "metadata": {},
     "output_type": "execute_result"
    },
    {
     "data": {
      "image/png": "[encoded data removed]",
      "text/plain": [
       "<Figure size 472.875x360 with 1 Axes>"
      ]
     },
     "metadata": {
      "needs_background": "light"
     },
     "output_type": "display_data"
    }
   ],
   "source": [
    "sns.relplot( data=gnv)"
   ]
  },
  {
   "cell_type": "code",
   "execution_count": 966,
   "metadata": {},
   "outputs": [
    {
     "data": {
      "text/plain": [
       "regiao\n",
       "CENTRO OESTE    1.970008\n",
       "NORDESTE        1.961928\n",
       "NORTE           1.942218\n",
       "SUDESTE         1.808258\n",
       "SUL             1.930748\n",
       "dtype: float64"
      ]
     },
     "execution_count": 966,
     "metadata": {},
     "output_type": "execute_result"
    },
    {
     "data": {
      "image/png": "[encoded data removed]",
      "text/plain": [
       "<Figure size 432x288 with 1 Axes>"
      ]
     },
     "metadata": {
      "needs_background": "light"
     },
     "output_type": "display_data"
    }
   ],
   "source": [
    "sns.boxplot(gnv)\n",
    "gnv.mean()"
   ]
  },
  {
   "cell_type": "markdown",
   "metadata": {},
   "source": [
    "    Observa-se que em média os dados estão mais condensados e próximos a média."
   ]
  },
  {
   "cell_type": "code",
   "execution_count": 967,
   "metadata": {},
   "outputs": [
    {
     "name": "stdout",
     "output_type": "stream",
     "text": [
      "O maior valor pago em GNV no Sul em 2004 foi de 1.199 \n",
      "\n",
      "O maior valor pago em GNV no Sul em 2019 foi de 3.499\n",
      "\n",
      "O maior valor pago em GNV no NordestE em 2004 foi de 1.399 \n",
      "\n",
      "O maior valor pago em GNV no Nordeste em 2019 foi de 3.811\n",
      "\n",
      "O maior valor pago em GNV no Norte em 2004 foi de 1.399 \n",
      "\n",
      "O maior valor pago em GNV no Norte em 2019 foi de 3.499\n",
      "\n",
      "O maior valor pago em GNV no Sudeste em 2004 foi de 1.161 \n",
      "\n",
      "O maior valor pago em GNV no Sudeste em 2019 foi de 3.594\n",
      "\n",
      "O maior valor pago em GNV no Centro Oeste em 2004 foi de 1.169 \n",
      "\n",
      "O maior valor pago em GNV no Centro Oeste em 2019 foi de 3.889\n",
      "\n",
      "A variação de valor do GNV Sul foi de 65.73% em 15 anos\n",
      "\n",
      "A variação de valor do GNV no Nordste foi de 63.29% em 15 anos\n",
      "\n",
      "A variação de valor do GNV no Norte foi de 60.02% em 15 anos\n",
      "\n",
      "A variação de valor do GNV no Sudeste foi de 67.7% em 15 anos\n",
      "\n",
      "A variação de valor do GNV no Centro Oeste foi de 69.94% em 15 anos\n",
      "\n"
     ]
    }
   ],
   "source": [
    "sul = base[base.regiao=='SUL']\n",
    "sul = sul[sul.produto=='GNV']\n",
    "inicio_sul_ano_0=sul[sul.ano==2004]\n",
    "inicio_sul_ano_0 = inicio_sul_ano_0.preco_medio.max()\n",
    "fim_sul = sul[sul.ano==2019]\n",
    "fim_sul = fim_sul.preco_medio.max()\n",
    "variacao_sul = (fim_sul-inicio_sul_ano_0)/fim_sul\n",
    "print('O maior valor pago em GNV no Sul em 2004 foi de {0} \\n'.format(inicio_sul_ano_0))\n",
    "print('O maior valor pago em GNV no Sul em 2019 foi de {0}\\n'.format(fim_sul))\n",
    "\n",
    "\n",
    "\n",
    "nordeste = base[base.regiao=='NORDESTE']\n",
    "nordeste=nordeste[nordeste.produto=='GNV']\n",
    "inicio_nordeste_ano_0=nordeste[nordeste.ano==2004]\n",
    "inicio_nordeste_ano_0 = inicio_nordeste_ano_0.preco_medio.max()\n",
    "fim_nordeste = nordeste[nordeste.ano==2019]\n",
    "fim_nordeste = fim_nordeste.preco_medio.max()\n",
    "variacao_nordeste = (fim_nordeste-inicio_nordeste_ano_0)/fim_nordeste\n",
    "print('O maior valor pago em GNV no NordestE em 2004 foi de {0} \\n'.format(inicio_nordeste_ano_0))\n",
    "print('O maior valor pago em GNV no Nordeste em 2019 foi de {0}\\n'.format(fim_nordeste))\n",
    "\n",
    "\n",
    "\n",
    "norte = base[base.regiao=='NORTE']\n",
    "norte=norte[norte.produto=='GNV']\n",
    "inicio_norte_ano_0=norte[norte.ano==2005]\n",
    "inicio_norte_ano_0 = inicio_norte_ano_0.preco_medio.max()\n",
    "fim_norte = norte[norte.ano==2019]\n",
    "fim_norte = fim_norte.preco_medio.max()\n",
    "variacao_norte = (fim_norte-inicio_norte_ano_0)/fim_norte\n",
    "print('O maior valor pago em GNV no Norte em 2004 foi de {0} \\n'.format(inicio_norte_ano_0))\n",
    "print('O maior valor pago em GNV no Norte em 2019 foi de {0}\\n'.format(fim_norte))\n",
    "\n",
    "\n",
    "\n",
    "sudeste = base[base.regiao=='SUDESTE']\n",
    "sudeste=sudeste[sudeste.produto=='GNV']\n",
    "inicio_sudeste_ano_0=sudeste[sudeste.ano==2004]\n",
    "inicio_sudeste_ano_0 = inicio_sudeste_ano_0.preco_medio.max()\n",
    "fim_sudeste = sudeste[sudeste.ano==2019]\n",
    "fim_sudeste = fim_sudeste.preco_medio.max()\n",
    "variacao_sudeste = (fim_sudeste-inicio_sudeste_ano_0)/fim_sudeste\n",
    "print('O maior valor pago em GNV no Sudeste em 2004 foi de {0} \\n'.format(inicio_sudeste_ano_0))\n",
    "print('O maior valor pago em GNV no Sudeste em 2019 foi de {0}\\n'.format(fim_sudeste))\n",
    "\n",
    "\n",
    "\n",
    "centroeste = base[base.regiao=='CENTRO OESTE']\n",
    "centroeste=centroeste[centroeste.produto=='GNV']\n",
    "inicio_centroeste_ano_0=centroeste[centroeste.ano==2004]\n",
    "inicio_centroeste_ano_0 = inicio_centroeste_ano_0.preco_medio.max()\n",
    "fim_centroeste = centroeste[centroeste.ano==2019]\n",
    "fim_centroeste = fim_centroeste.preco_medio.max()\n",
    "variacao_centroeste = (fim_centroeste-inicio_centroeste_ano_0)/fim_centroeste\n",
    "print('O maior valor pago em GNV no Centro Oeste em 2004 foi de {0} \\n'.format(inicio_centroeste_ano_0))\n",
    "print('O maior valor pago em GNV no Centro Oeste em 2019 foi de {0}\\n'.format(fim_centroeste))\n",
    "\n",
    "                                                                                           \n",
    "print('A variação de valor do GNV Sul foi de {}% em 15 anos\\n'.format(round((variacao_sul*100),2)))                                                                                         \n",
    "                                                                                           \n",
    "print('A variação de valor do GNV no Nordste foi de {}% em 15 anos\\n'.format(round((variacao_nordeste*100),2)))                                                                                           \n",
    "print('A variação de valor do GNV no Norte foi de {}% em 15 anos\\n'.format(round((variacao_norte*100),2)))                                                                                          \n",
    "print('A variação de valor do GNV no Sudeste foi de {}% em 15 anos\\n'.format(round((variacao_sudeste*100),2)))            \n",
    "print('A variação de valor do GNV no Centro Oeste foi de {}% em 15 anos\\n'.format(round((variacao_centroeste*100) ,2)))\n",
    "                                                                                                       \n",
    "aumento_gnv_sudeste =fim_sudeste-inicio_sudeste_ano_0\n",
    "aumento_gnv_sul =fim_sul-inicio_sul_ano_0\n",
    "aumento_gnv_norte =fim_norte-inicio_norte_ano_0\n",
    "aumento_gnv_nordeste =fim_nordeste-inicio_sul_ano_0\n",
    "aumento_gnv_centroeste =fim_centroeste-inicio_sul_ano_0\n",
    "\n",
    "\n",
    "variacao_sul_gnv =variacao_sul\n",
    "variacao_sudeste_gnv =variacao_sudeste\n",
    "variacao_norte_gnv =variacao_norte\n",
    "variacao_nordeste_gnv =variacao_nordeste\n",
    "variacao_centroeste_gnv =variacao_centroeste"
   ]
  },
  {
   "cell_type": "markdown",
   "metadata": {},
   "source": [
    "    O maior aumento percentual foi no centro-oeste para o GNV.\n",
    "    Seguiremos com o diesel."
   ]
  },
  {
   "cell_type": "code",
   "execution_count": 968,
   "metadata": {},
   "outputs": [
    {
     "data": {
      "text/plain": [
       "<seaborn.axisgrid.FacetGrid at 0x2019c747108>"
      ]
     },
     "execution_count": 968,
     "metadata": {},
     "output_type": "execute_result"
    },
    {
     "data": {
      "image/png": "[encoded data removed]",
      "text/plain": [
       "<Figure size 472.875x360 with 1 Axes>"
      ]
     },
     "metadata": {
      "needs_background": "light"
     },
     "output_type": "display_data"
    }
   ],
   "source": [
    "sns.relplot( data=diesel)"
   ]
  },
  {
   "cell_type": "code",
   "execution_count": 969,
   "metadata": {},
   "outputs": [
    {
     "data": {
      "text/plain": [
       "regiao\n",
       "CENTRO OESTE    2.500685\n",
       "NORDESTE        2.368723\n",
       "NORTE           2.591250\n",
       "SUDESTE         2.358254\n",
       "SUL             2.349283\n",
       "dtype: float64"
      ]
     },
     "execution_count": 969,
     "metadata": {},
     "output_type": "execute_result"
    },
    {
     "data": {
      "image/png": "[encoded data removed]",
      "text/plain": [
       "<Figure size 432x288 with 1 Axes>"
      ]
     },
     "metadata": {
      "needs_background": "light"
     },
     "output_type": "display_data"
    }
   ],
   "source": [
    "sns.boxplot(diesel)\n",
    "diesel.mean()"
   ]
  },
  {
   "cell_type": "markdown",
   "metadata": {},
   "source": [
    "    A média de valor é baixa, porém apresenta uma grande variação"
   ]
  },
  {
   "cell_type": "code",
   "execution_count": 970,
   "metadata": {},
   "outputs": [
    {
     "name": "stdout",
     "output_type": "stream",
     "text": [
      "O maior valor pago em diesel no Sul em 2004 foi de 1.794 \n",
      "\n",
      "O maior valor pago em diesel no Sul em 2019 foi de 3.576\n",
      "\n",
      "O maior valor pago em disel no NordestE em 2004 foi de 1.6840000000000002 \n",
      "\n",
      "O maior valor pago em diesel no Nordeste em 2019 foi de 3.885\n",
      "\n",
      "O maior valor pago em diesel no Norte em 2004 foi de 1.98 \n",
      "\n",
      "O maior valor pago em diesel no Norte em 2019 foi de 4.729\n",
      "\n",
      "O maior valor pago em diesel no Sudeste em 2004 foi de 1.703 \n",
      "\n",
      "O maior valor pago em diesel no Sudeste em 2019 foi de 3.708\n",
      "\n",
      "O maior valor pago em diesel no Centro Oeste em 2004 foi de 1.923 \n",
      "\n",
      "O maior valor pago em diesel no Centro Oeste em 2019 foi de 4.0\n",
      "\n",
      "A variação de valor do ÓLEO DIESEL Sul foi de 49.83% em 15 anos\n",
      "\n",
      "A variação de valor do ÓLEO DIESEL no Nordste foi de 56.65% em 15 anos\n",
      "\n",
      "A variação de valor do ÓLEO DIESEL no Norte foi de 58.13% em 15 anos\n",
      "\n",
      "A variação de valor do ÓLEO DIESEL no Sudeste foi de 54.07% em 15 anos\n",
      "\n",
      "A variação de valor do ÓLEO DIESEL no Centro Oeste foi de 51.92% em 15 anos\n",
      "\n"
     ]
    }
   ],
   "source": [
    "sul = base[base.regiao=='SUL']\n",
    "sul = sul[sul.produto=='ÓLEO DIESEL']\n",
    "inicio_sul_ano_0=sul[sul.ano==2004]\n",
    "inicio_sul_ano_0 = inicio_sul_ano_0.preco_medio.max()\n",
    "fim_sul = sul[sul.ano==2019]\n",
    "fim_sul = fim_sul.preco_medio.max()\n",
    "variacao_sul = (fim_sul-inicio_sul_ano_0)/fim_sul\n",
    "print('O maior valor pago em diesel no Sul em 2004 foi de {0} \\n'.format(inicio_sul_ano_0))\n",
    "print('O maior valor pago em diesel no Sul em 2019 foi de {0}\\n'.format(fim_sul))\n",
    "\n",
    "\n",
    "\n",
    "nordeste = base[base.regiao=='NORDESTE']\n",
    "nordeste=nordeste[nordeste.produto=='ÓLEO DIESEL']\n",
    "inicio_nordeste_ano_0=nordeste[nordeste.ano==2004]\n",
    "inicio_nordeste_ano_0 = inicio_nordeste_ano_0.preco_medio.max()\n",
    "fim_nordeste = nordeste[nordeste.ano==2019]\n",
    "fim_nordeste = fim_nordeste.preco_medio.max()\n",
    "variacao_nordeste = (fim_nordeste-inicio_nordeste_ano_0)/fim_nordeste\n",
    "print('O maior valor pago em disel no NordestE em 2004 foi de {0} \\n'.format(inicio_nordeste_ano_0))\n",
    "print('O maior valor pago em diesel no Nordeste em 2019 foi de {0}\\n'.format(fim_nordeste))\n",
    "\n",
    "\n",
    "\n",
    "norte = base[base.regiao=='NORTE']\n",
    "norte=norte[norte.produto=='ÓLEO DIESEL']\n",
    "inicio_norte_ano_0=norte[norte.ano==2004]\n",
    "inicio_norte_ano_0 = inicio_norte_ano_0.preco_medio.max()\n",
    "fim_norte = norte[norte.ano==2019]\n",
    "fim_norte = fim_norte.preco_medio.max()\n",
    "variacao_norte = (fim_norte-inicio_norte_ano_0)/fim_norte\n",
    "print('O maior valor pago em diesel no Norte em 2004 foi de {0} \\n'.format(inicio_norte_ano_0))\n",
    "print('O maior valor pago em diesel no Norte em 2019 foi de {0}\\n'.format(fim_norte))\n",
    "\n",
    "\n",
    "\n",
    "sudeste = base[base.regiao=='SUDESTE']\n",
    "sudeste=sudeste[sudeste.produto=='ÓLEO DIESEL']\n",
    "inicio_sudeste_ano_0=sudeste[sudeste.ano==2004]\n",
    "inicio_sudeste_ano_0 = inicio_sudeste_ano_0.preco_medio.max()\n",
    "fim_sudeste = sudeste[sudeste.ano==2019]\n",
    "fim_sudeste = fim_sudeste.preco_medio.max()\n",
    "variacao_sudeste = (fim_sudeste-inicio_sudeste_ano_0)/fim_sudeste\n",
    "print('O maior valor pago em diesel no Sudeste em 2004 foi de {0} \\n'.format(inicio_sudeste_ano_0))\n",
    "print('O maior valor pago em diesel no Sudeste em 2019 foi de {0}\\n'.format(fim_sudeste))\n",
    "\n",
    "\n",
    "\n",
    "centroeste = base[base.regiao=='CENTRO OESTE']\n",
    "centroeste=centroeste[centroeste.produto=='ÓLEO DIESEL']\n",
    "inicio_centroeste_ano_0=centroeste[centroeste.ano==2004]\n",
    "inicio_centroeste_ano_0 = inicio_centroeste_ano_0.preco_medio.max()\n",
    "fim_centroeste = centroeste[centroeste.ano==2019]\n",
    "fim_centroeste = fim_centroeste.preco_medio.max()\n",
    "variacao_centroeste = (fim_centroeste-inicio_centroeste_ano_0)/fim_centroeste\n",
    "print('O maior valor pago em diesel no Centro Oeste em 2004 foi de {0} \\n'.format(inicio_centroeste_ano_0))\n",
    "print('O maior valor pago em diesel no Centro Oeste em 2019 foi de {0}\\n'.format(fim_centroeste))\n",
    "\n",
    "                                                                                           \n",
    "print('A variação de valor do ÓLEO DIESEL Sul foi de {}% em 15 anos\\n'.format(round((variacao_sul*100),2)))                                                                                         \n",
    "                                                                                           \n",
    "print('A variação de valor do ÓLEO DIESEL no Nordste foi de {}% em 15 anos\\n'.format(round((variacao_nordeste*100),2)))                                                                                           \n",
    "print('A variação de valor do ÓLEO DIESEL no Norte foi de {}% em 15 anos\\n'.format(round((variacao_norte*100),2)))                                                                                          \n",
    "print('A variação de valor do ÓLEO DIESEL no Sudeste foi de {}% em 15 anos\\n'.format(round((variacao_sudeste*100),2)))            \n",
    "print('A variação de valor do ÓLEO DIESEL no Centro Oeste foi de {}% em 15 anos\\n'.format(round((variacao_centroeste*100) ,2)))\n",
    "                                                                                                       \n",
    "aumento_diesel_sudeste =fim_sudeste-inicio_sudeste_ano_0\n",
    "aumento_diesel_sul =fim_sul-inicio_sul_ano_0\n",
    "aumento_diesel_norte =fim_norte-inicio_norte_ano_0\n",
    "aumento_diesel_nordeste =fim_nordeste-inicio_sul_ano_0\n",
    "aumento_diesel_centroeste =fim_centroeste-inicio_sul_ano_0\n",
    "\n",
    "variacao_sul_diesel =variacao_sul\n",
    "variacao_sudeste_diesel =variacao_sudeste\n",
    "variacao_norte_diesel =variacao_norte\n",
    "variacao_nordeste_diesel =variacao_nordeste\n",
    "variacao_centroeste_diesel =variacao_centroeste"
   ]
  },
  {
   "cell_type": "code",
   "execution_count": 971,
   "metadata": {},
   "outputs": [
    {
     "name": "stdout",
     "output_type": "stream",
     "text": [
      "A maior variação observada para óleo diesel foi no Norte, com 58% de aumento, ou R$ 2.749\n"
     ]
    }
   ],
   "source": [
    "     print('A maior variação observada para óleo diesel foi no Norte, com 58% de aumento, ou R$ {}'.format(aumento_diesel_norte))\n",
    "    "
   ]
  },
  {
   "cell_type": "markdown",
   "metadata": {
    "scrolled": true
   },
   "source": [
    "# 6. Conclusões"
   ]
  },
  {
   "cell_type": "markdown",
   "metadata": {},
   "source": [
    "Ponto de atenção, não haviam dados relativos a GNV no norte em 2004, por esse motivo utilizamos o ano de 2005 como ano 0, e relevaremos o número."
   ]
  },
  {
   "cell_type": "code",
   "execution_count": 972,
   "metadata": {},
   "outputs": [
    {
     "name": "stdout",
     "output_type": "stream",
     "text": [
      "A gasolina variou no Norte, com 48.47% de aumento, ou R$ 2.482\n",
      "\n",
      "O etanol variou no Norte, com 46.58% de aumento, ou R$ 1.878\n",
      "\n",
      "O gnv variou no Norte, com 60.02% de aumento, ou R$ 2.1\n",
      "\n",
      "O diesel variou no Norte, com 58.13% de aumento, ou R$ 2.749\n",
      "\n"
     ]
    }
   ],
   "source": [
    "print('A gasolina variou no Norte, com {}% de aumento, ou R$ {}\\n'.format(round(variacao_norte_gasolina*100,2),round(aumento_gasolina_norte,3)))\n",
    "print('O etanol variou no Norte, com {}% de aumento, ou R$ {}\\n'.format(round(variacao_norte_etanol*100,2),round(aumento_etanol_norte,3)))\n",
    "print('O gnv variou no Norte, com {}% de aumento, ou R$ {}\\n'.format(round(variacao_norte_gnv*100,2),round(aumento_gnv_norte,3)))\n",
    "print('O diesel variou no Norte, com {}% de aumento, ou R$ {}\\n'.format(round(variacao_norte_diesel*100,2),round(aumento_diesel_norte,3)))"
   ]
  },
  {
   "cell_type": "code",
   "execution_count": 973,
   "metadata": {},
   "outputs": [
    {
     "name": "stdout",
     "output_type": "stream",
     "text": [
      "A gasolina variou no Nordeste, com 50.37% de aumento, ou R$ 2.465\n",
      "\n",
      "O etanol variou no Nordeste, com 49.25% de aumento, ou R$ 2.109\n",
      "\n",
      "O gnv variou no Nordeste, com 63.29% de aumento, ou R$ 2.612\n",
      "\n",
      "O diesel variou no Nordeste, com 56.65% de aumento, ou R$ 2.091\n",
      "\n"
     ]
    }
   ],
   "source": [
    "print('A gasolina variou no Nordeste, com {}% de aumento, ou R$ {}\\n'.format(round(variacao_nordeste_gasolina*100,2),round(aumento_gasolina_nordeste,3)))\n",
    "print('O etanol variou no Nordeste, com {}% de aumento, ou R$ {}\\n'.format(round(variacao_nordeste_etanol*100,2),round(aumento_etanol_nordeste,3)))\n",
    "print('O gnv variou no Nordeste, com {}% de aumento, ou R$ {}\\n'.format(round(variacao_nordeste_gnv*100,2),round(aumento_gnv_nordeste,3)))\n",
    "print('O diesel variou no Nordeste, com {}% de aumento, ou R$ {}\\n'.format(round(variacao_nordeste_diesel*100,2),round(aumento_diesel_nordeste,3)))"
   ]
  },
  {
   "cell_type": "code",
   "execution_count": 974,
   "metadata": {},
   "outputs": [
    {
     "name": "stdout",
     "output_type": "stream",
     "text": [
      "A gasolina variou no Sul, com 48.4% de aumento, ou R$ 2.332\n",
      "\n",
      "O etanol variou no Sul, com 57.59% de aumento, ou R$ 2.469\n",
      "\n",
      "O gnv variou no Sul, com 65.73% de aumento, ou R$ 2.3\n",
      "\n",
      "O diesel variou no Sul, com 49.83% de aumento, ou R$ 1.782\n",
      "\n"
     ]
    }
   ],
   "source": [
    "print('A gasolina variou no Sul, com {}% de aumento, ou R$ {}\\n'.format(round(variacao_sul_gasolina*100,2),round(aumento_gasolina_sul,3)))\n",
    "print('O etanol variou no Sul, com {}% de aumento, ou R$ {}\\n'.format(round(variacao_sul_etanol*100,2),round(aumento_etanol_sul,3)))\n",
    "print('O gnv variou no Sul, com {}% de aumento, ou R$ {}\\n'.format(round(variacao_sul_gnv*100,2),round(aumento_gnv_sul,3)))\n",
    "print('O diesel variou no Sul, com {}% de aumento, ou R$ {}\\n'.format(round(variacao_sul_diesel*100,2),round(aumento_diesel_sul,3)))"
   ]
  },
  {
   "cell_type": "code",
   "execution_count": 975,
   "metadata": {},
   "outputs": [
    {
     "name": "stdout",
     "output_type": "stream",
     "text": [
      "A gasolina variou no Sudeste, com 54.08% de aumento, ou R$ 2.728\n",
      "\n",
      "O etanol variou no Sudeste, com 60.17% de aumento, ou R$ 2.476\n",
      "\n",
      "O gnv variou no Sudeste, com 67.7% de aumento, ou R$ 2.433\n",
      "\n",
      "O diesel variou no Sudeste, com 54.07% de aumento, ou R$ 2.005\n",
      "\n"
     ]
    }
   ],
   "source": [
    "print('A gasolina variou no Sudeste, com {}% de aumento, ou R$ {}\\n'.format(round(variacao_sudeste_gasolina*100,2),round(aumento_gasolina_sudeste,3)))\n",
    "print('O etanol variou no Sudeste, com {}% de aumento, ou R$ {}\\n'.format(round(variacao_sudeste_etanol*100,2),round(aumento_etanol_sudeste,3)))\n",
    "print('O gnv variou no Sudeste, com {}% de aumento, ou R$ {}\\n'.format(round(variacao_sudeste_gnv*100,2),round(aumento_gnv_sudeste,3)))\n",
    "print('O diesel variou no Sudeste, com {}% de aumento, ou R$ {}\\n'.format(round(variacao_sudeste_diesel*100,2),round(aumento_diesel_sudeste,3)))"
   ]
  },
  {
   "cell_type": "code",
   "execution_count": 976,
   "metadata": {},
   "outputs": [
    {
     "name": "stdout",
     "output_type": "stream",
     "text": [
      "A gasolina variou no Centro Oeste, com 43.17% de aumento, ou R$ 2.277\n",
      "\n",
      "O etanol variou no Centro Oeste, com 48.5% de aumento, ou R$ 1.78\n",
      "\n",
      "O gnv variou no Centro Oeste, com 69.94% de aumento, ou R$ 2.69\n",
      "\n",
      "O diesel variou no Centro Oeste, com 51.92% de aumento, ou R$ 2.206\n",
      "\n"
     ]
    }
   ],
   "source": [
    "print('A gasolina variou no Centro Oeste, com {}% de aumento, ou R$ {}\\n'.format(round(variacao_centroeste_gasolina*100,2),round(aumento_gasolina_centroeste,3)))\n",
    "print('O etanol variou no Centro Oeste, com {}% de aumento, ou R$ {}\\n'.format(round(variacao_centroeste_etanol*100,2),round(aumento_etanol_centroeste,3)))\n",
    "print('O gnv variou no Centro Oeste, com {}% de aumento, ou R$ {}\\n'.format(round(variacao_centroeste_gnv*100,2),round(aumento_gnv_centroeste,3)))\n",
    "print('O diesel variou no Centro Oeste, com {}% de aumento, ou R$ {}\\n'.format(round(variacao_centroeste_diesel*100,2),round(aumento_diesel_centroeste,3)))"
   ]
  },
  {
   "cell_type": "markdown",
   "metadata": {},
   "source": [
    "    O maior aumento detectado foi na região Centro Oeste com o GNV, um aumento de praticamente 70%. Analisando os gráficos de variação de preço, vemos que todos saltam entre 2015 e 2016, podemos atribuir a isso, a estabilidade politica vivida no Brasil naquele período, ano do impeachment do ex-presidente Michel Temer e depois as devidas medidas tomadas para a estabilidade econômica do pais."
   ]
  }
 ],
 "metadata": {
  "kernelspec": {
   "display_name": "Python 3",
   "language": "python",
   "name": "python3"
  },
  "language_info": {
   "codemirror_mode": {
    "name": "ipython",
    "version": 3
   },
   "file_extension": ".py",
   "mimetype": "text/x-python",
   "name": "python",
   "nbconvert_exporter": "python",
   "pygments_lexer": "ipython3",
   "version": "3.7.4"
  }
 },
 "nbformat": 4,
 "nbformat_minor": 4
}
